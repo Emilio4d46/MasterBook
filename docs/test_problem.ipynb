{
 "cells": [
  {
   "cell_type": "markdown",
   "metadata": {},
   "source": [
    "Test Problem\n",
    "=======================\n",
    "\n",
    "Now that we have gotten a firm understandting of the PML we can start implementing a forward pass: this is to generate training data for our model. We first, however, implement a test case using the same tools as we hope to in the main problem, NGSolve within Python. The test problem will be to model a plan wave in a simple domain."
   ]
  },
  {
   "cell_type": "code",
   "execution_count": 19,
   "metadata": {},
   "outputs": [],
   "source": [
    "%matplotlib notebook\n",
    "import netgen.gui\n",
    "from netgen.geom2d import SplineGeometry\n",
    "from ngsolve import *\n",
    "import matplotlib.pyplot as plt"
   ]
  },
  {
   "cell_type": "markdown",
   "metadata": {},
   "source": [
    "We can model the problem as a set of concentric circles with the center most being our region of interest, $\\Omega$. This is then sourrounded by a 'normal' region and then a PLM region."
   ]
  },
  {
   "cell_type": "code",
   "execution_count": 2,
   "metadata": {},
   "outputs": [],
   "source": [
    "geo = SplineGeometry()\n",
    "geo.AddCircle( (0,0), 1.7, leftdomain=3, bc=\"outerbnd\")\n",
    "geo.AddCircle( (0,0), 1.25, leftdomain=2, rightdomain=3, bc=\"midbnd\")\n",
    "geo.AddCircle( (0,0), 1, leftdomain=1, rightdomain=2, bc=\"innerbnd\")\n",
    "geo.SetMaterial(1, \"inner\")\n",
    "geo.SetMaterial(2, \"mid\")\n",
    "geo.SetMaterial(3, \"pmlregion\")\n",
    "mesh = Mesh(geo.GenerateMesh (maxh=0.05))\n",
    "mesh.Curve(3)\n",
    "\n",
    "mesh.SetPML(pml.Radial(rad=1.25,alpha=5j,origin=(0,0)), \"pmlregion\") #Alpha is the strenth of the PML."
   ]
  },
  {
   "cell_type": "markdown",
   "metadata": {},
   "source": [
    "We can set\n",
    "\n",
    "$$w(x) = \\begin{cases}\n",
    "   w_0 &\\text{: } x\\in\\mathbb{R}^3/\\Omega \\\\\n",
    "   \\tilde{w}(x) &\\text{: } x\\in\\Omega\n",
    "\\end{cases}$$\n",
    "\n",
    "to be the wave number. Here we have set our $\\tilde{w}(x)$ to a multivariate Gaussian with equation:\n",
    "\n",
    "$$\\tilde{w}(x) = 50\\exp{\\left(-\\frac{x^2 + y^2}{\\log\\left({\\frac{5}{2}}\\right)}\\right)}$$\n",
    "\n",
    "and for $w_0(x) = 20$"
   ]
  },
  {
   "cell_type": "code",
   "execution_count": 12,
   "metadata": {},
   "outputs": [],
   "source": [
    "import numpy as np\n",
    "\n",
    "omega_0 = 20\n",
    "omega_tilde = 50*exp(-(((x*x)*np.log(5/2))+((y*y)*np.log(5/2)))) #Gaussian function for our test Omega.\n",
    "\n",
    "domain_values = {'inner': omega_tilde, 'mid': omega_0, 'pmlregion': omega_0}\n",
    "values_list = [domain_values[mat] for mat in mesh.GetMaterials()]\n",
    "omega = CoefficientFunction(values_list)\n",
    "\n",
    "Draw(omega, mesh, 'piecewise')"
   ]
  },
  {
   "cell_type": "markdown",
   "metadata": {},
   "source": [
    "We can also define the wave as\n",
    "\n",
    "$$u(x) = u^\\text{inc}(x) + u^{\\text{s}}(x)$$\n",
    "\n",
    "with $u^\\text{inc}(x)$ being the incident wave and $u^{\\text{s}}(x)$ being the scattered wave. With\n",
    "\n",
    "$$u^\\text{inc}(x) = e^{iw_0d\\cdot x}$$\n",
    "\n",
    "With $d$ being a direction vector and $\\|d\\|_2 = 1$, or in other words, $d\\in\\mathbb{S}^1$. We then apply $u(x)$ to a Helmholtz Equation:\n",
    "\n",
    "$$\\Delta u(x) + w^2(x)u(x) = 0$$\n",
    "\n",
    "We wish to solve an inhomogenous Helmholtz euqation, $\\Delta u(x) + \\omega^2u(x) = f(x)$, so that we can use classiacal finite element methods. We can do this by expanding it via $u(x) = u^\\text{inc}(x) + u^{\\text{s}}(x)$. This gives us:\n",
    "\n",
    "$$\\Delta\\left(u^\\text{inc}(x) + u^{\\text{s}}(x)\\right) + w^2(x)\\left(u^\\text{inc}(x) + u^{\\text{s}}(x)\\right) = 0$$\n",
    "\n",
    "Rewriting this with the terms of the scattered wave on the left hand side and with the incident wave on the right hand side we get:\n",
    "\n",
    "$$\\Delta u^\\text{s}(x) + w^2(x)u^{\\text{s}}(x) = \\underbrace{-\\left(\\Delta u^\\text{inc}(x) + w^2(x)u^{\\text{inc}}(x)\\right)}_{f(x)}$$\n",
    "\n",
    "As we know that $u^\\text{inc}(x) = e^{iw_0d\\cdot x}$, so, $\\Delta u^\\text{inc}(x) = -w_0^2(x)u^{\\text{inc}}(x)$. This allows us to re-write $f(x)$ and the problem as:\n",
    "\n",
    "$$\\Delta u^\\text{s}(x) + w^2(x)u^{\\text{s}}(x) = -u^\\text{inc}(x)\\left(\\omega^2 - \\omega_0^2\\right)$$\n",
    "\n",
    "Which we can solve using classiacal finite element methods.\n",
    "\n",
    "_**Note**: We can observe that the right hand side only has support in $\\Omega$ as outside of $\\Omega$ we have that $w(x) = w_0$, hence $f(x) = 0$._"
   ]
  },
  {
   "cell_type": "code",
   "execution_count": null,
   "metadata": {},
   "outputs": [],
   "source": [
    "fes = H1(mesh, complex=True, order=5)\n",
    "\n",
    "u_in = exp(1j*omega_0*(3/5*x + 4/5*y)) #Can use any vector as long as it is on the unit circle. \n",
    "\n",
    "#Defining our test and solution functions.\n",
    "u = fes.TrialFunction()\n",
    "v = fes.TestFunction()\n",
    "\n",
    "#Defining our LHS of the problem.\n",
    "a = BilinearForm(fes)\n",
    "a += grad(u)*grad(v)*dx - omega**2*u*v*dx\n",
    "a += -omega*1j*u*v * ds(\"innerbnd\")\n",
    "a.Assemble()\n",
    "\n",
    "#Defining the RHS of our problem.\n",
    "f = LinearForm(fes)\n",
    "f += u_in * (omega**2 - omega_0**2) * v * dx\n",
    "f.Assemble()\n",
    "\n",
    "#Solving our problem.\n",
    "u_s = GridFunction(fes, name=\"u\")\n",
    "u_s.vec.data = a.mat.Inverse() * f.vec"
   ]
  },
  {
   "cell_type": "code",
   "execution_count": 14,
   "metadata": {},
   "outputs": [],
   "source": [
    "Draw (u_in, mesh, \"u_in\")"
   ]
  },
  {
   "cell_type": "code",
   "execution_count": 15,
   "metadata": {},
   "outputs": [],
   "source": [
    "Draw(u_s, mesh, \"u_s\")"
   ]
  },
  {
   "cell_type": "code",
   "execution_count": 16,
   "metadata": {},
   "outputs": [],
   "source": [
    "Draw(u_in + u_s, mesh, \"u_tot\")"
   ]
  }
 ],
 "metadata": {
  "kernelspec": {
   "display_name": "Python 3",
   "language": "python",
   "name": "python3"
  }
 },
 "nbformat": 4,
 "nbformat_minor": 4
}
